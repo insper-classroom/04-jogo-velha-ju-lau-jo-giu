{
 "cells": [
  {
   "cell_type": "code",
   "execution_count": 21,
   "metadata": {},
   "outputs": [],
   "source": [
    "from kaggle_environments import make\n",
    "env = make('tictactoe', debug=True)"
   ]
  },
  {
   "cell_type": "code",
   "execution_count": null,
   "metadata": {},
   "outputs": [],
   "source": [
    "# definindo funções pro minmax\n",
    "import math \n",
    "\n",
    "def f_utilidade(estado,jogador):\n",
    "    pass \n",
    "\n",
    "def sucessores(estado,jogador):\n",
    "    sucessores = []\n",
    "    return sucessores\n",
    "\n",
    "def muda_jogador(jogador):\n",
    "    return 1 if jogador == 2 else 2\n",
    "\n",
    "def max_value(estado, p):\n",
    "    if p == 0:\n",
    "        return estado.eval()\n",
    "    v = -math.inf\n",
    "    for s in estado.sucessores():\n",
    "        v = max(v, min_value(s, p-1))\n",
    "    return v\n",
    "\n",
    "def min_value(estado, p):\n",
    "    if p == 0:\n",
    "        return estado.eval()\n",
    "    v = math.inf\n",
    "    for s in estado.sucessores():\n",
    "        v = min(v, max_value(s, p-1))\n",
    "    return v\n",
    "\n",
    "\n",
    "def minmax(tabuleiro,meu_jogador):\n",
    "    max_value(tabuleiro,meu_jogador,3)\n",
    "    return 0 \n"
   ]
  },
  {
   "cell_type": "code",
   "execution_count": 22,
   "metadata": {},
   "outputs": [],
   "source": [
    "def my_agent(obs,reward):\n",
    "  pos = minmax(obs['board'],obs.mark)\n",
    "  return pos"
   ]
  },
  {
   "cell_type": "code",
   "execution_count": 23,
   "metadata": {},
   "outputs": [],
   "source": [
    "from kaggle_environments import evaluate\n",
    "\n",
    "environment = 'tictactoe'\n",
    "configuration = {}\n",
    "steps = []\n",
    "agents = [my_agent, \"random\"]\n",
    "num_episodes = 10\n",
    "\n",
    "rewards = evaluate(environment, agents, configuration, steps, num_episodes)"
   ]
  }
 ],
 "metadata": {
  "kernelspec": {
   "display_name": ".venv",
   "language": "python",
   "name": "python3"
  },
  "language_info": {
   "codemirror_mode": {
    "name": "ipython",
    "version": 3
   },
   "file_extension": ".py",
   "mimetype": "text/x-python",
   "name": "python",
   "nbconvert_exporter": "python",
   "pygments_lexer": "ipython3",
   "version": "3.9.17"
  }
 },
 "nbformat": 4,
 "nbformat_minor": 2
}
