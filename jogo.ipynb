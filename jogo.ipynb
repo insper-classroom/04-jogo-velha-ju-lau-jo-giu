{
 "cells": [
  {
   "cell_type": "code",
   "execution_count": 101,
   "metadata": {},
   "outputs": [],
   "source": [
    "from kaggle_environments import make\n",
    "env = make('tictactoe', debug=True)"
   ]
  },
  {
   "cell_type": "code",
   "execution_count": 102,
   "metadata": {},
   "outputs": [],
   "source": [
    "def verifica_vitoria(estado):\n",
    "    for i in range(0, 9, 3):\n",
    "        if estado[i] == estado[i + 1] == estado[i + 2] and estado[i]!=0:\n",
    "            return estado[i]\n",
    "        \n",
    "    for i in range(3):\n",
    "        if estado[i] == estado[i + 3] == estado[i + 6] and estado[i]!=0 :\n",
    "            return estado[i]\n",
    "        \n",
    "    if estado[0] == estado[4] == estado[8] and estado[0]!=0:\n",
    "        return estado[0]\n",
    "    \n",
    "    if estado[2] == estado[4] == estado[6] and estado[2]!=0:\n",
    "        return estado[2]\n",
    "    \n",
    "    return None"
   ]
  },
  {
   "cell_type": "code",
   "execution_count": 103,
   "metadata": {},
   "outputs": [
    {
     "name": "stdout",
     "output_type": "stream",
     "text": [
      "1\n"
     ]
    }
   ],
   "source": [
    "import math \n",
    "\n",
    "def utils(estado, jogador):\n",
    "\n",
    "    vitoria = verifica_vitoria(estado)\n",
    "    tabuleiro = []\n",
    "    pontuacao = 0\n",
    "\n",
    "    if vitoria:\n",
    "\n",
    "        if vitoria == jogador:\n",
    "            return 1\n",
    "        \n",
    "        return -1\n",
    "    \n",
    "    else:\n",
    "        for i in range(0, 3):\n",
    "            tabuleiro.append([estado[3*i], estado[1 + 3*i], estado[2 + 3*i]])\n",
    "            tabuleiro.append([estado[i], estado[i + 3], estado[i + 6]])\n",
    "\n",
    "            if i == 0:\n",
    "                tabuleiro.append([estado[0], estado[4], estado[8]])\n",
    "            \n",
    "            if i == 2:\n",
    "                tabuleiro.append([estado[2], estado[4], estado[6]])\n",
    "\n",
    "        \n",
    "        for jogada in tabuleiro:\n",
    "            count = 0\n",
    "            if not (set(jogada) == {1, 2} or set(jogada) == {0, 1, 2} or set(jogada) == {0}):\n",
    "                if set(jogada) == {0, jogador}:\n",
    "                    count = jogada.count(jogador)\n",
    "                    pontuacao += 0.1 * count + (count - 1) * 0.2\n",
    "\n",
    "                else:\n",
    "                    count = jogada.count(muda_jogador(jogador))\n",
    "                    pontuacao -= 0.1 * count + (count - 1) * 0.2\n",
    "\n",
    "    return pontuacao\n",
    "        \n",
    "\n",
    "def sucessores(estado, jogador):\n",
    "    sucessores = []\n",
    "\n",
    "    for i in range(len(estado)): \n",
    "        if estado[i] == 0:\n",
    "            novo_estado = estado.copy()\n",
    "            novo_estado[i] = jogador\n",
    "            sucessores.append((novo_estado, i))\n",
    "\n",
    "    return sucessores\n",
    "\n",
    "def muda_jogador(jogador):\n",
    "    return 1 if jogador == 2 else 2\n",
    "\n",
    "def max_value(estado, jogador, p, pos=None):\n",
    "    pos_final = pos\n",
    "    if p == 0:\n",
    "        return utils(estado, jogador), pos\n",
    "    v = -math.inf\n",
    "    for s, pos_linha in sucessores(estado, jogador):\n",
    "        vitoria = verifica_vitoria(s)\n",
    "        if vitoria == None:\n",
    "            if pos == None:\n",
    "                if min_value(s, muda_jogador(jogador), p-1, pos_linha)[0] > v:\n",
    "                    v = min_value(s, muda_jogador(jogador), p-1, pos_linha)[0]\n",
    "                    pos_final = pos_linha\n",
    "            else:\n",
    "                v = max(v, min_value(s, muda_jogador(jogador), p-1, pos)[0]) \n",
    "        else:\n",
    "            if pos:\n",
    "                return vitoria, pos\n",
    "            return vitoria, pos_linha  \n",
    "        \n",
    "    return v, pos_final\n",
    "\n",
    "def min_value(estado, jogador, p, pos):\n",
    "    if p == 0:\n",
    "        return utils(estado, muda_jogador(jogador)), pos\n",
    "    v = math.inf\n",
    "    for s, pos_linha in sucessores(estado, jogador):\n",
    "        vitoria = verifica_vitoria(s)\n",
    "        if vitoria == None:\n",
    "            v = min(v, max_value(s, muda_jogador(jogador), p-1, pos)[0])\n",
    "        else:\n",
    "            return vitoria, pos\n",
    "    return v, pos\n",
    "\n",
    "def minmax(tabuleiro, jogador):\n",
    "    valor, pos = max_value(tabuleiro, jogador, 3)\n",
    "\n",
    "    return pos\n",
    "\n",
    "print(minmax([1, 0, 2, 1, 2, 0, 1, 0, 0], 1))\n"
   ]
  },
  {
   "cell_type": "code",
   "execution_count": 104,
   "metadata": {},
   "outputs": [],
   "source": [
    "def my_agent(obs,reward):\n",
    "  pos = minmax(obs['board'],obs.mark)\n",
    "  return pos"
   ]
  },
  {
   "cell_type": "code",
   "execution_count": 108,
   "metadata": {},
   "outputs": [],
   "source": [
    "from kaggle_environments import evaluate\n",
    "\n",
    "environment = 'tictactoe'\n",
    "configuration = {}\n",
    "steps = []\n",
    "agents = [\"random\", my_agent]\n",
    "num_episodes = 25\n",
    "\n",
    "rewards = evaluate(environment, agents, configuration, steps, num_episodes)"
   ]
  },
  {
   "cell_type": "code",
   "execution_count": 106,
   "metadata": {},
   "outputs": [
    {
     "name": "stdout",
     "output_type": "stream",
     "text": [
      "[[1, -1], [1, -1], [1, -1], [1, -1], [1, -1], [1, -1], [1, -1], [1, -1], [1, -1], [1, -1], [1, -1], [1, -1], [1, -1], [1, -1], [1, -1], [1, -1], [1, -1], [1, -1], [1, -1], [1, -1], [1, -1], [1, -1], [1, -1], [1, -1], [1, -1], [1, -1], [1, -1], [1, -1], [1, -1], [1, -1], [1, -1], [1, -1], [1, -1], [1, -1], [1, -1], [1, -1], [1, -1], [1, -1], [1, -1], [1, -1], [1, -1], [1, -1], [1, -1], [1, -1], [1, -1], [1, -1], [1, -1], [1, -1], [1, -1], [1, -1], [1, -1], [1, -1], [1, -1], [1, -1], [1, -1], [1, -1], [1, -1], [1, -1], [1, -1], [1, -1], [1, -1], [1, -1], [-1, 1], [1, -1], [1, -1], [1, -1], [1, -1], [1, -1], [1, -1], [1, -1], [1, -1], [1, -1], [1, -1], [1, -1], [1, -1], [1, -1], [1, -1], [1, -1], [1, -1], [1, -1], [1, -1], [1, -1], [1, -1], [1, -1], [1, -1], [1, -1], [1, -1], [1, -1], [1, -1], [1, -1], [1, -1], [1, -1], [1, -1], [1, -1], [1, -1], [1, -1], [1, -1], [1, -1], [1, -1], [1, -1]]\n"
     ]
    }
   ],
   "source": [
    "print(rewards)"
   ]
  },
  {
   "cell_type": "code",
   "execution_count": 107,
   "metadata": {},
   "outputs": [
    {
     "name": "stdout",
     "output_type": "stream",
     "text": [
      "1.1\n"
     ]
    }
   ],
   "source": [
    "print(utils([1, 2, 0, 0, 0, 2, 1, 0, 1], 1))"
   ]
  }
 ],
 "metadata": {
  "kernelspec": {
   "display_name": ".venv",
   "language": "python",
   "name": "python3"
  },
  "language_info": {
   "codemirror_mode": {
    "name": "ipython",
    "version": 3
   },
   "file_extension": ".py",
   "mimetype": "text/x-python",
   "name": "python",
   "nbconvert_exporter": "python",
   "pygments_lexer": "ipython3",
   "version": "3.9.17"
  }
 },
 "nbformat": 4,
 "nbformat_minor": 2
}
