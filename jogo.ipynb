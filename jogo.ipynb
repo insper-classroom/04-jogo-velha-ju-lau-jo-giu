{
 "cells": [
  {
   "cell_type": "code",
   "execution_count": 2,
   "metadata": {},
   "outputs": [],
   "source": [
    "from kaggle_environments import make\n",
    "env = make('tictactoe', debug=True)"
   ]
  },
  {
   "cell_type": "code",
   "execution_count": 12,
   "metadata": {},
   "outputs": [
    {
     "name": "stdout",
     "output_type": "stream",
     "text": [
      "True\n"
     ]
    }
   ],
   "source": [
    "def verifica_vitoria(estado):\n",
    "    for i in range(0, 9, 3):\n",
    "        if estado[i] == estado[i + 1] == estado[i + 2]:\n",
    "            estado[i]\n",
    "    for i in range(3):\n",
    "        if estado[i] == estado[i + 3] == estado[i + 6] :\n",
    "            return[i]\n",
    "    if estado[0] == estado[4] == estado[8]:\n",
    "        estado[0]\n",
    "    if estado[2] == estado[4] == estado[6]:\n",
    "        estado[2]\n",
    "    return None"
   ]
  },
  {
   "cell_type": "code",
   "execution_count": 3,
   "metadata": {},
   "outputs": [],
   "source": [
    "# definindo funções pro minmax\n",
    "import math \n",
    "\n",
    "def f_utilidade(estado,estou_jogando,jogador):\n",
    "    if not(estou_jogando):\n",
    "        jogador = muda_jogador(jogador)\n",
    "    \n",
    "\n",
    "def sucessores(estado,jogador):\n",
    "    sucessores = []\n",
    "    for i in range(len(estado)): \n",
    "        if estado[i]==0:\n",
    "            novo_estado= estado.copy()\n",
    "            novo_estado[i]=jogador\n",
    "            sucessores.append((novo_estado, i))\n",
    "    return sucessores\n",
    "\n",
    "def muda_jogador(jogador):\n",
    "    return 1 if jogador == 2 else 2\n",
    "\n",
    "def max_value(estado, meu_jogador, p):\n",
    "    if p == 0:\n",
    "        return f_utilidade(estado,True,meu_jogador)\n",
    "    v = -math.inf\n",
    "    for s in sucessores(estado, meu_jogador):\n",
    "        v = max(v, min_value(s, p-1))\n",
    "    return v\n",
    "\n",
    "def min_value(estado, jogador, p):\n",
    "    if p == 0:\n",
    "        return f_utilidade(estado,False,jogador)\n",
    "    v = math.inf\n",
    "    for s in sucessores(estado,jogador):\n",
    "        v = min(v, max_value(s, jogador, p-1))\n",
    "    return v\n",
    "\n",
    "\n",
    "def minmax(tabuleiro,meu_jogador):\n",
    "    max_value(tabuleiro,meu_jogador,3)\n",
    "    return 0 \n"
   ]
  },
  {
   "cell_type": "code",
   "execution_count": 4,
   "metadata": {},
   "outputs": [],
   "source": [
    "def my_agent(obs,reward):\n",
    "  pos = minmax(obs['board'],obs.mark)\n",
    "  return pos"
   ]
  },
  {
   "cell_type": "code",
   "execution_count": 5,
   "metadata": {},
   "outputs": [],
   "source": [
    "from kaggle_environments import evaluate\n",
    "\n",
    "environment = 'tictactoe'\n",
    "configuration = {}\n",
    "steps = []\n",
    "agents = [my_agent, \"random\"]\n",
    "num_episodes = 10\n",
    "\n",
    "rewards = evaluate(environment, agents, configuration, steps, num_episodes)"
   ]
  }
 ],
 "metadata": {
  "kernelspec": {
   "display_name": ".venv",
   "language": "python",
   "name": "python3"
  },
  "language_info": {
   "codemirror_mode": {
    "name": "ipython",
    "version": 3
   },
   "file_extension": ".py",
   "mimetype": "text/x-python",
   "name": "python",
   "nbconvert_exporter": "python",
   "pygments_lexer": "ipython3",
   "version": "3.9.17"
  }
 },
 "nbformat": 4,
 "nbformat_minor": 2
}
