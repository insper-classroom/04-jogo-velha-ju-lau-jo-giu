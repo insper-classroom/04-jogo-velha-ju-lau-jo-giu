{
 "cells": [
  {
   "cell_type": "code",
   "execution_count": 1,
   "metadata": {},
   "outputs": [
    {
     "name": "stdout",
     "output_type": "stream",
     "text": [
      "termcolor not installed, skipping dependency\n",
      "No pygame installed, ignoring import\n"
     ]
    },
    {
     "name": "stderr",
     "output_type": "stream",
     "text": [
      "/home/vscode/.local/lib/python3.9/site-packages/tqdm/auto.py:21: TqdmWarning: IProgress not found. Please update jupyter and ipywidgets. See https://ipywidgets.readthedocs.io/en/stable/user_install.html\n",
      "  from .autonotebook import tqdm as notebook_tqdm\n"
     ]
    }
   ],
   "source": [
    "from kaggle_environments import make\n",
    "env = make('tictactoe', debug=True)"
   ]
  },
  {
   "cell_type": "code",
   "execution_count": 2,
   "metadata": {},
   "outputs": [],
   "source": [
    "def verifica_vitoria(estado):\n",
    "    # Verifica as linhas horizontalmente\n",
    "    for i in range(0, 9, 3):\n",
    "        if estado[i] == estado[i + 1] == estado[i + 2] and estado[i] != 0:\n",
    "            return estado[i]\n",
    "        \n",
    "    # Verifica as colunas verticalmente\n",
    "    for i in range(3):\n",
    "        if estado[i] == estado[i + 3] == estado[i + 6] and estado[i] != 0:\n",
    "            return estado[i]\n",
    "        \n",
    "    # Verifica a diagonal principal\n",
    "    if estado[0] == estado[4] == estado[8] and estado[0] != 0:\n",
    "        return estado[0]\n",
    "    \n",
    "    # Verifica a diagonal secundária\n",
    "    if estado[2] == estado[4] == estado[6] and estado[2] != 0:\n",
    "        return estado[2]\n",
    "    \n",
    "    # Se nenhuma das condições acima for atendida, retorna None (nenhum vencedor)\n",
    "    return None\n"
   ]
  },
  {
   "cell_type": "code",
   "execution_count": 3,
   "metadata": {},
   "outputs": [],
   "source": [
    "import math\n",
    "import time\n",
    "\n",
    "# Função utilitária para avaliar o estado atual do jogo\n",
    "def utils(estado, jogador):\n",
    "    vitoria = verifica_vitoria(estado)\n",
    "    tabuleiro = []\n",
    "    pontuacao = 0\n",
    "\n",
    "    if vitoria:\n",
    "        # Se houver vitória e o jogador atual for o vencedor, retorna 1\n",
    "        if vitoria == jogador:\n",
    "            return 1\n",
    "        # Se houver vitória e o jogador atual não for o vencedor, retorna -1\n",
    "        return -1\n",
    "    else:\n",
    "        # Gera possíveis tabuleiros para análise\n",
    "        for i in range(0, 3):\n",
    "            tabuleiro.append([estado[3*i], estado[1 + 3*i], estado[2 + 3*i]])\n",
    "            tabuleiro.append([estado[i], estado[i + 3], estado[i + 6]])\n",
    "\n",
    "            if i == 0:\n",
    "                tabuleiro.append([estado[0], estado[4], estado[8]])\n",
    "            if i == 2:\n",
    "                tabuleiro.append([estado[2], estado[4], estado[6]])\n",
    "\n",
    "        # Avalia os tabuleiros para pontuação\n",
    "        for jogada in tabuleiro:\n",
    "            count = 0\n",
    "            if set(jogada) == {1, 2}:\n",
    "                if jogada.count(muda_jogador(jogador)) == 2:\n",
    "                    pontuacao += 0.005\n",
    "            if not (set(jogada) == {1, 2} or set(jogada) == {0, 1, 2} or set(jogada) == {0}):\n",
    "                if set(jogada) == {0, jogador}:\n",
    "                    count = jogada.count(jogador)\n",
    "                    pontuacao += 0.01 * count + (count - 1) * 0.02\n",
    "                else:\n",
    "                    count = jogada.count(muda_jogador(jogador))\n",
    "                    pontuacao -= 0.01 * count + (count - 1) * 0.02\n",
    "\n",
    "    return pontuacao\n",
    "\n",
    "# Função para gerar os possíveis estados sucessores do tabuleiro\n",
    "def sucessores(estado, jogador):\n",
    "    sucessores = []\n",
    "\n",
    "    for i in range(len(estado)):\n",
    "        if estado[i] == 0:\n",
    "            novo_estado = estado.copy()\n",
    "            novo_estado[i] = jogador\n",
    "            sucessores.append((novo_estado, i))\n",
    "\n",
    "    return sucessores\n",
    "\n",
    "# Função para alternar entre jogadores\n",
    "def muda_jogador(jogador):\n",
    "    return 1 if jogador == 2 else 2\n",
    "\n",
    "# Algoritmo Minimax: retorna a posição com a menor pontuação possível para o jogador adversário\n",
    "def min_value(estado, jogador, p, alfa, beta, pos):\n",
    "    # Caso base: profundidade alcançada, retorna a pontuação do estado atual e a posição\n",
    "    if p == 0:\n",
    "        return utils(estado, muda_jogador(jogador)), pos\n",
    "    v = math.inf  # Inicializa v com infinito para garantir que seja substituído por um valor menor\n",
    "\n",
    "    # Gera os possíveis sucessores do estado atual\n",
    "    for s, pos_linha in sucessores(estado, jogador):\n",
    "        vitoria = verifica_vitoria(s)\n",
    "        if vitoria == None:  # Se não há vitória no estado sucessor\n",
    "            # Calcula o score do estado sucessor usando o max_value (jogador adversário)\n",
    "            score = max_value(s, muda_jogador(jogador), p-1, alfa, beta, pos)[0]\n",
    "            v = min(v, score)  # Atualiza v com o menor entre v e o score\n",
    "            beta = min(beta, v)  # Atualiza beta com o menor entre beta e v\n",
    "            if beta <= alfa:  # Se beta for menor ou igual a alfa, corta a busca\n",
    "                break\n",
    "        elif vitoria == jogador:  # Se o jogador atual vence no estado sucessor\n",
    "            return -1, pos  # Retorna -1 (perda do jogador adversário) e a posição\n",
    "\n",
    "    return v, pos  # Retorna a menor pontuação e a posição correspondente\n",
    "\n",
    "\n",
    "# Algoritmo Minimax: retorna a posição com a maior pontuação possível para o jogador atual\n",
    "def max_value(estado, jogador, p, alfa, beta, pos=None):\n",
    "    pos_final = pos  # Armazena a posição final caso não haja mudanças\n",
    "    # Caso base: profundidade alcançada, retorna a pontuação do estado atual e a posição\n",
    "    if p == 0:\n",
    "        return utils(estado, jogador), pos\n",
    "    v = -math.inf  # Inicializa v com menos infinito para garantir que seja substituído por um valor maior\n",
    "\n",
    "    # Gera os possíveis sucessores do estado atual\n",
    "    for s, pos_linha in sucessores(estado, jogador):\n",
    "        vitoria = verifica_vitoria(s)\n",
    "        if vitoria == None:  # Se não há vitória no estado sucessor\n",
    "            if pos == None:  # Se não há posição final definida\n",
    "                # Calcula o score do estado sucessor usando o min_value (jogador adversário)\n",
    "                score = min_value(s, muda_jogador(jogador), p-1, alfa, beta, pos_linha)[0]\n",
    "                if score > v:  # Se o score for maior que v\n",
    "                    v = score  # Atualiza v com o novo score\n",
    "                    pos_final = pos_linha  # Atualiza a posição final com a nova posição\n",
    "                    alfa = max(alfa, v)  # Atualiza alfa com o maior entre alfa e v\n",
    "                    if beta <= alfa:  # Se beta for menor ou igual a alfa, corta a busca\n",
    "                        break\n",
    "            else:  # Se houver uma posição final definida\n",
    "                # Calcula o score do estado sucessor usando o min_value (jogador adversário)\n",
    "                score = min_value(s, muda_jogador(jogador), p-1, alfa, beta, pos)[0]\n",
    "                v = max(v, score)  # Atualiza v com o maior entre v e o score\n",
    "                alfa = max(alfa, v)  # Atualiza alfa com o maior entre alfa e v\n",
    "                if beta <= alfa:  # Se beta for menor ou igual a alfa, corta a busca\n",
    "                    break\n",
    "        elif vitoria == jogador:  # Se o jogador atual vence no estado sucessor\n",
    "            if pos:  # Se houver uma posição final definida\n",
    "                return 1, pos  # Retorna 1 (vitória do jogador) e a posição final\n",
    "            return 1, pos_linha  # Retorna 1 (vitória do jogador) e a nova posição\n",
    "\n",
    "    return v, pos_final  # Retorna a maior pontuação e a posição correspondente\n",
    "\n",
    "\n",
    "# Função principal que chama o algoritmo Minimax\n",
    "def minmax(tabuleiro, jogador):\n",
    "    alpha = float('-inf')\n",
    "    beta = float('inf')\n",
    "    valor, pos = max_value(tabuleiro, jogador, 3, alpha, beta)\n",
    "    return pos\n"
   ]
  },
  {
   "cell_type": "code",
   "execution_count": 4,
   "metadata": {},
   "outputs": [],
   "source": [
    "# Função para criar o agente de jogo\n",
    "def my_agent(obs, reward):\n",
    "    # Executa o algoritmo Minimax para determinar a próxima jogada do agente\n",
    "    pos = minmax(obs['board'], obs.mark)\n",
    "    return pos  # Retorna a posição escolhida pelo algoritmo Minimax"
   ]
  },
  {
   "cell_type": "code",
   "execution_count": 5,
   "metadata": {},
   "outputs": [],
   "source": [
    "from kaggle_environments import evaluate\n",
    "\n",
    "environment = 'tictactoe'\n",
    "configuration = {}\n",
    "steps = []\n",
    "agents = [\"random\",my_agent]\n",
    "num_episodes = 100\n",
    "\n",
    "rewards = evaluate(environment, agents, configuration, steps, num_episodes)"
   ]
  },
  {
   "cell_type": "code",
   "execution_count": 6,
   "metadata": {},
   "outputs": [
    {
     "name": "stdout",
     "output_type": "stream",
     "text": [
      "10\n",
      "0\n",
      "89\n"
     ]
    }
   ],
   "source": [
    "print(rewards.count([1,-1]))\n",
    "print(rewards.count([0,0]))\n",
    "print(rewards.count([-1,1]))"
   ]
  },
  {
   "cell_type": "code",
   "execution_count": null,
   "metadata": {},
   "outputs": [],
   "source": []
  }
 ],
 "metadata": {
  "kernelspec": {
   "display_name": ".venv",
   "language": "python",
   "name": "python3"
  },
  "language_info": {
   "codemirror_mode": {
    "name": "ipython",
    "version": 3
   },
   "file_extension": ".py",
   "mimetype": "text/x-python",
   "name": "python",
   "nbconvert_exporter": "python",
   "pygments_lexer": "ipython3",
   "version": "3.9.17"
  }
 },
 "nbformat": 4,
 "nbformat_minor": 2
}
